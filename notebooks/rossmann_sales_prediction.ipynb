{
 "cells": [
  {
   "cell_type": "markdown",
   "id": "c5a84409",
   "metadata": {
    "heading_collapsed": true
   },
   "source": [
    "# 0.0 Imports"
   ]
  },
  {
   "cell_type": "code",
   "execution_count": 48,
   "id": "595940d4",
   "metadata": {
    "ExecuteTime": {
     "end_time": "2023-01-14T13:43:23.698227Z",
     "start_time": "2023-01-14T13:43:23.692219Z"
    },
    "hidden": true
   },
   "outputs": [],
   "source": [
    "import pandas as pd\n",
    "import numpy as np\n",
    "import matplotlib.pyplot as plt\n",
    "import seaborn as sns\n",
    "import math\n",
    "import inflection\n",
    "from IPython.display import Image\n",
    "import datetime"
   ]
  },
  {
   "cell_type": "code",
   "execution_count": 2,
   "id": "e15d7f65",
   "metadata": {
    "ExecuteTime": {
     "end_time": "2023-01-14T13:25:51.558631Z",
     "start_time": "2023-01-14T13:25:51.544873Z"
    },
    "hidden": true
   },
   "outputs": [],
   "source": [
    "plt.style.use('ggplot')"
   ]
  },
  {
   "cell_type": "markdown",
   "id": "ae0cf15a",
   "metadata": {
    "heading_collapsed": true,
    "hidden": true
   },
   "source": [
    "## 0.1 Helper Functions"
   ]
  },
  {
   "cell_type": "markdown",
   "id": "ce86d04c",
   "metadata": {
    "heading_collapsed": true,
    "hidden": true
   },
   "source": [
    "## 0.2 Loading data"
   ]
  },
  {
   "cell_type": "code",
   "execution_count": 3,
   "id": "0824c190",
   "metadata": {
    "ExecuteTime": {
     "end_time": "2023-01-14T13:25:52.415912Z",
     "start_time": "2023-01-14T13:25:51.560547Z"
    },
    "hidden": true
   },
   "outputs": [],
   "source": [
    "#dataset que contém dados das vendas\n",
    "df_sales_raw = pd.read_csv('../data/train.csv', low_memory=False)\n",
    "\n",
    "#dataset que contém dados das lojas\n",
    "df_stores_raw = pd.read_csv('../data/store.csv', low_memory=False)\n",
    "\n",
    "#dataset final\n",
    "df_raw = pd.merge(df_sales_raw, df_stores_raw, how='left', on='Store')"
   ]
  },
  {
   "cell_type": "code",
   "execution_count": 4,
   "id": "5f144704",
   "metadata": {
    "ExecuteTime": {
     "end_time": "2023-01-14T13:25:52.446757Z",
     "start_time": "2023-01-14T13:25:52.418780Z"
    },
    "hidden": true
   },
   "outputs": [
    {
     "data": {
      "text/html": [
       "<div>\n",
       "<style scoped>\n",
       "    .dataframe tbody tr th:only-of-type {\n",
       "        vertical-align: middle;\n",
       "    }\n",
       "\n",
       "    .dataframe tbody tr th {\n",
       "        vertical-align: top;\n",
       "    }\n",
       "\n",
       "    .dataframe thead th {\n",
       "        text-align: right;\n",
       "    }\n",
       "</style>\n",
       "<table border=\"1\" class=\"dataframe\">\n",
       "  <thead>\n",
       "    <tr style=\"text-align: right;\">\n",
       "      <th></th>\n",
       "      <th>Store</th>\n",
       "      <th>DayOfWeek</th>\n",
       "      <th>Date</th>\n",
       "      <th>Sales</th>\n",
       "      <th>Customers</th>\n",
       "      <th>Open</th>\n",
       "      <th>Promo</th>\n",
       "      <th>StateHoliday</th>\n",
       "      <th>SchoolHoliday</th>\n",
       "    </tr>\n",
       "  </thead>\n",
       "  <tbody>\n",
       "    <tr>\n",
       "      <th>0</th>\n",
       "      <td>1</td>\n",
       "      <td>5</td>\n",
       "      <td>2015-07-31</td>\n",
       "      <td>5263</td>\n",
       "      <td>555</td>\n",
       "      <td>1</td>\n",
       "      <td>1</td>\n",
       "      <td>0</td>\n",
       "      <td>1</td>\n",
       "    </tr>\n",
       "    <tr>\n",
       "      <th>1</th>\n",
       "      <td>2</td>\n",
       "      <td>5</td>\n",
       "      <td>2015-07-31</td>\n",
       "      <td>6064</td>\n",
       "      <td>625</td>\n",
       "      <td>1</td>\n",
       "      <td>1</td>\n",
       "      <td>0</td>\n",
       "      <td>1</td>\n",
       "    </tr>\n",
       "    <tr>\n",
       "      <th>2</th>\n",
       "      <td>3</td>\n",
       "      <td>5</td>\n",
       "      <td>2015-07-31</td>\n",
       "      <td>8314</td>\n",
       "      <td>821</td>\n",
       "      <td>1</td>\n",
       "      <td>1</td>\n",
       "      <td>0</td>\n",
       "      <td>1</td>\n",
       "    </tr>\n",
       "    <tr>\n",
       "      <th>3</th>\n",
       "      <td>4</td>\n",
       "      <td>5</td>\n",
       "      <td>2015-07-31</td>\n",
       "      <td>13995</td>\n",
       "      <td>1498</td>\n",
       "      <td>1</td>\n",
       "      <td>1</td>\n",
       "      <td>0</td>\n",
       "      <td>1</td>\n",
       "    </tr>\n",
       "    <tr>\n",
       "      <th>4</th>\n",
       "      <td>5</td>\n",
       "      <td>5</td>\n",
       "      <td>2015-07-31</td>\n",
       "      <td>4822</td>\n",
       "      <td>559</td>\n",
       "      <td>1</td>\n",
       "      <td>1</td>\n",
       "      <td>0</td>\n",
       "      <td>1</td>\n",
       "    </tr>\n",
       "  </tbody>\n",
       "</table>\n",
       "</div>"
      ],
      "text/plain": [
       "   Store  DayOfWeek        Date  Sales  Customers  Open  Promo StateHoliday  \\\n",
       "0      1          5  2015-07-31   5263        555     1      1            0   \n",
       "1      2          5  2015-07-31   6064        625     1      1            0   \n",
       "2      3          5  2015-07-31   8314        821     1      1            0   \n",
       "3      4          5  2015-07-31  13995       1498     1      1            0   \n",
       "4      5          5  2015-07-31   4822        559     1      1            0   \n",
       "\n",
       "   SchoolHoliday  \n",
       "0              1  \n",
       "1              1  \n",
       "2              1  \n",
       "3              1  \n",
       "4              1  "
      ]
     },
     "execution_count": 4,
     "metadata": {},
     "output_type": "execute_result"
    }
   ],
   "source": [
    "df_sales_raw.head()"
   ]
  },
  {
   "cell_type": "code",
   "execution_count": 5,
   "id": "2d7c370e",
   "metadata": {
    "ExecuteTime": {
     "end_time": "2023-01-14T13:25:52.461807Z",
     "start_time": "2023-01-14T13:25:52.448845Z"
    },
    "hidden": true
   },
   "outputs": [
    {
     "data": {
      "text/html": [
       "<div>\n",
       "<style scoped>\n",
       "    .dataframe tbody tr th:only-of-type {\n",
       "        vertical-align: middle;\n",
       "    }\n",
       "\n",
       "    .dataframe tbody tr th {\n",
       "        vertical-align: top;\n",
       "    }\n",
       "\n",
       "    .dataframe thead th {\n",
       "        text-align: right;\n",
       "    }\n",
       "</style>\n",
       "<table border=\"1\" class=\"dataframe\">\n",
       "  <thead>\n",
       "    <tr style=\"text-align: right;\">\n",
       "      <th></th>\n",
       "      <th>Store</th>\n",
       "      <th>StoreType</th>\n",
       "      <th>Assortment</th>\n",
       "      <th>CompetitionDistance</th>\n",
       "      <th>CompetitionOpenSinceMonth</th>\n",
       "      <th>CompetitionOpenSinceYear</th>\n",
       "      <th>Promo2</th>\n",
       "      <th>Promo2SinceWeek</th>\n",
       "      <th>Promo2SinceYear</th>\n",
       "      <th>PromoInterval</th>\n",
       "    </tr>\n",
       "  </thead>\n",
       "  <tbody>\n",
       "    <tr>\n",
       "      <th>0</th>\n",
       "      <td>1</td>\n",
       "      <td>c</td>\n",
       "      <td>a</td>\n",
       "      <td>1270.0</td>\n",
       "      <td>9.0</td>\n",
       "      <td>2008.0</td>\n",
       "      <td>0</td>\n",
       "      <td>NaN</td>\n",
       "      <td>NaN</td>\n",
       "      <td>NaN</td>\n",
       "    </tr>\n",
       "    <tr>\n",
       "      <th>1</th>\n",
       "      <td>2</td>\n",
       "      <td>a</td>\n",
       "      <td>a</td>\n",
       "      <td>570.0</td>\n",
       "      <td>11.0</td>\n",
       "      <td>2007.0</td>\n",
       "      <td>1</td>\n",
       "      <td>13.0</td>\n",
       "      <td>2010.0</td>\n",
       "      <td>Jan,Apr,Jul,Oct</td>\n",
       "    </tr>\n",
       "    <tr>\n",
       "      <th>2</th>\n",
       "      <td>3</td>\n",
       "      <td>a</td>\n",
       "      <td>a</td>\n",
       "      <td>14130.0</td>\n",
       "      <td>12.0</td>\n",
       "      <td>2006.0</td>\n",
       "      <td>1</td>\n",
       "      <td>14.0</td>\n",
       "      <td>2011.0</td>\n",
       "      <td>Jan,Apr,Jul,Oct</td>\n",
       "    </tr>\n",
       "    <tr>\n",
       "      <th>3</th>\n",
       "      <td>4</td>\n",
       "      <td>c</td>\n",
       "      <td>c</td>\n",
       "      <td>620.0</td>\n",
       "      <td>9.0</td>\n",
       "      <td>2009.0</td>\n",
       "      <td>0</td>\n",
       "      <td>NaN</td>\n",
       "      <td>NaN</td>\n",
       "      <td>NaN</td>\n",
       "    </tr>\n",
       "    <tr>\n",
       "      <th>4</th>\n",
       "      <td>5</td>\n",
       "      <td>a</td>\n",
       "      <td>a</td>\n",
       "      <td>29910.0</td>\n",
       "      <td>4.0</td>\n",
       "      <td>2015.0</td>\n",
       "      <td>0</td>\n",
       "      <td>NaN</td>\n",
       "      <td>NaN</td>\n",
       "      <td>NaN</td>\n",
       "    </tr>\n",
       "  </tbody>\n",
       "</table>\n",
       "</div>"
      ],
      "text/plain": [
       "   Store StoreType Assortment  CompetitionDistance  CompetitionOpenSinceMonth  \\\n",
       "0      1         c          a               1270.0                        9.0   \n",
       "1      2         a          a                570.0                       11.0   \n",
       "2      3         a          a              14130.0                       12.0   \n",
       "3      4         c          c                620.0                        9.0   \n",
       "4      5         a          a              29910.0                        4.0   \n",
       "\n",
       "   CompetitionOpenSinceYear  Promo2  Promo2SinceWeek  Promo2SinceYear  \\\n",
       "0                    2008.0       0              NaN              NaN   \n",
       "1                    2007.0       1             13.0           2010.0   \n",
       "2                    2006.0       1             14.0           2011.0   \n",
       "3                    2009.0       0              NaN              NaN   \n",
       "4                    2015.0       0              NaN              NaN   \n",
       "\n",
       "     PromoInterval  \n",
       "0              NaN  \n",
       "1  Jan,Apr,Jul,Oct  \n",
       "2  Jan,Apr,Jul,Oct  \n",
       "3              NaN  \n",
       "4              NaN  "
      ]
     },
     "execution_count": 5,
     "metadata": {},
     "output_type": "execute_result"
    }
   ],
   "source": [
    "df_stores_raw.head()"
   ]
  },
  {
   "cell_type": "code",
   "execution_count": 6,
   "id": "1fa2ff52",
   "metadata": {
    "ExecuteTime": {
     "end_time": "2023-01-14T13:25:52.492686Z",
     "start_time": "2023-01-14T13:25:52.463764Z"
    },
    "hidden": true
   },
   "outputs": [
    {
     "data": {
      "text/html": [
       "<div>\n",
       "<style scoped>\n",
       "    .dataframe tbody tr th:only-of-type {\n",
       "        vertical-align: middle;\n",
       "    }\n",
       "\n",
       "    .dataframe tbody tr th {\n",
       "        vertical-align: top;\n",
       "    }\n",
       "\n",
       "    .dataframe thead th {\n",
       "        text-align: right;\n",
       "    }\n",
       "</style>\n",
       "<table border=\"1\" class=\"dataframe\">\n",
       "  <thead>\n",
       "    <tr style=\"text-align: right;\">\n",
       "      <th></th>\n",
       "      <th>Store</th>\n",
       "      <th>DayOfWeek</th>\n",
       "      <th>Date</th>\n",
       "      <th>Sales</th>\n",
       "      <th>Customers</th>\n",
       "      <th>Open</th>\n",
       "      <th>Promo</th>\n",
       "      <th>StateHoliday</th>\n",
       "      <th>SchoolHoliday</th>\n",
       "      <th>StoreType</th>\n",
       "      <th>Assortment</th>\n",
       "      <th>CompetitionDistance</th>\n",
       "      <th>CompetitionOpenSinceMonth</th>\n",
       "      <th>CompetitionOpenSinceYear</th>\n",
       "      <th>Promo2</th>\n",
       "      <th>Promo2SinceWeek</th>\n",
       "      <th>Promo2SinceYear</th>\n",
       "      <th>PromoInterval</th>\n",
       "    </tr>\n",
       "  </thead>\n",
       "  <tbody>\n",
       "    <tr>\n",
       "      <th>0</th>\n",
       "      <td>1</td>\n",
       "      <td>5</td>\n",
       "      <td>2015-07-31</td>\n",
       "      <td>5263</td>\n",
       "      <td>555</td>\n",
       "      <td>1</td>\n",
       "      <td>1</td>\n",
       "      <td>0</td>\n",
       "      <td>1</td>\n",
       "      <td>c</td>\n",
       "      <td>a</td>\n",
       "      <td>1270.0</td>\n",
       "      <td>9.0</td>\n",
       "      <td>2008.0</td>\n",
       "      <td>0</td>\n",
       "      <td>NaN</td>\n",
       "      <td>NaN</td>\n",
       "      <td>NaN</td>\n",
       "    </tr>\n",
       "    <tr>\n",
       "      <th>1</th>\n",
       "      <td>2</td>\n",
       "      <td>5</td>\n",
       "      <td>2015-07-31</td>\n",
       "      <td>6064</td>\n",
       "      <td>625</td>\n",
       "      <td>1</td>\n",
       "      <td>1</td>\n",
       "      <td>0</td>\n",
       "      <td>1</td>\n",
       "      <td>a</td>\n",
       "      <td>a</td>\n",
       "      <td>570.0</td>\n",
       "      <td>11.0</td>\n",
       "      <td>2007.0</td>\n",
       "      <td>1</td>\n",
       "      <td>13.0</td>\n",
       "      <td>2010.0</td>\n",
       "      <td>Jan,Apr,Jul,Oct</td>\n",
       "    </tr>\n",
       "    <tr>\n",
       "      <th>2</th>\n",
       "      <td>3</td>\n",
       "      <td>5</td>\n",
       "      <td>2015-07-31</td>\n",
       "      <td>8314</td>\n",
       "      <td>821</td>\n",
       "      <td>1</td>\n",
       "      <td>1</td>\n",
       "      <td>0</td>\n",
       "      <td>1</td>\n",
       "      <td>a</td>\n",
       "      <td>a</td>\n",
       "      <td>14130.0</td>\n",
       "      <td>12.0</td>\n",
       "      <td>2006.0</td>\n",
       "      <td>1</td>\n",
       "      <td>14.0</td>\n",
       "      <td>2011.0</td>\n",
       "      <td>Jan,Apr,Jul,Oct</td>\n",
       "    </tr>\n",
       "    <tr>\n",
       "      <th>3</th>\n",
       "      <td>4</td>\n",
       "      <td>5</td>\n",
       "      <td>2015-07-31</td>\n",
       "      <td>13995</td>\n",
       "      <td>1498</td>\n",
       "      <td>1</td>\n",
       "      <td>1</td>\n",
       "      <td>0</td>\n",
       "      <td>1</td>\n",
       "      <td>c</td>\n",
       "      <td>c</td>\n",
       "      <td>620.0</td>\n",
       "      <td>9.0</td>\n",
       "      <td>2009.0</td>\n",
       "      <td>0</td>\n",
       "      <td>NaN</td>\n",
       "      <td>NaN</td>\n",
       "      <td>NaN</td>\n",
       "    </tr>\n",
       "    <tr>\n",
       "      <th>4</th>\n",
       "      <td>5</td>\n",
       "      <td>5</td>\n",
       "      <td>2015-07-31</td>\n",
       "      <td>4822</td>\n",
       "      <td>559</td>\n",
       "      <td>1</td>\n",
       "      <td>1</td>\n",
       "      <td>0</td>\n",
       "      <td>1</td>\n",
       "      <td>a</td>\n",
       "      <td>a</td>\n",
       "      <td>29910.0</td>\n",
       "      <td>4.0</td>\n",
       "      <td>2015.0</td>\n",
       "      <td>0</td>\n",
       "      <td>NaN</td>\n",
       "      <td>NaN</td>\n",
       "      <td>NaN</td>\n",
       "    </tr>\n",
       "  </tbody>\n",
       "</table>\n",
       "</div>"
      ],
      "text/plain": [
       "   Store  DayOfWeek        Date  Sales  Customers  Open  Promo StateHoliday  \\\n",
       "0      1          5  2015-07-31   5263        555     1      1            0   \n",
       "1      2          5  2015-07-31   6064        625     1      1            0   \n",
       "2      3          5  2015-07-31   8314        821     1      1            0   \n",
       "3      4          5  2015-07-31  13995       1498     1      1            0   \n",
       "4      5          5  2015-07-31   4822        559     1      1            0   \n",
       "\n",
       "   SchoolHoliday StoreType Assortment  CompetitionDistance  \\\n",
       "0              1         c          a               1270.0   \n",
       "1              1         a          a                570.0   \n",
       "2              1         a          a              14130.0   \n",
       "3              1         c          c                620.0   \n",
       "4              1         a          a              29910.0   \n",
       "\n",
       "   CompetitionOpenSinceMonth  CompetitionOpenSinceYear  Promo2  \\\n",
       "0                        9.0                    2008.0       0   \n",
       "1                       11.0                    2007.0       1   \n",
       "2                       12.0                    2006.0       1   \n",
       "3                        9.0                    2009.0       0   \n",
       "4                        4.0                    2015.0       0   \n",
       "\n",
       "   Promo2SinceWeek  Promo2SinceYear    PromoInterval  \n",
       "0              NaN              NaN              NaN  \n",
       "1             13.0           2010.0  Jan,Apr,Jul,Oct  \n",
       "2             14.0           2011.0  Jan,Apr,Jul,Oct  \n",
       "3              NaN              NaN              NaN  \n",
       "4              NaN              NaN              NaN  "
      ]
     },
     "execution_count": 6,
     "metadata": {},
     "output_type": "execute_result"
    }
   ],
   "source": [
    "df_raw.head()"
   ]
  },
  {
   "cell_type": "markdown",
   "id": "39db931f",
   "metadata": {
    "heading_collapsed": true
   },
   "source": [
    "# 1.0 Descrição e limpeza dos dados"
   ]
  },
  {
   "cell_type": "markdown",
   "id": "ebd8c42c",
   "metadata": {
    "hidden": true
   },
   "source": [
    "## Qual é a motivação por trás dessa tarefa?"
   ]
  },
  {
   "cell_type": "markdown",
   "id": "f97a0653",
   "metadata": {
    "hidden": true
   },
   "source": [
    "Descobrir o quão desafiador é o problema.\n",
    "\n",
    "* É preciso saber a quantidade de dados:\n",
    "    * eu tenho recursos corretos para trabalhar?\n",
    "    * preciso de servidores? clusters? ferramentas para trabalhar com esses dados, como spark e hadoop?\n",
    "    \n",
    "* Tipos de variáveis:\n",
    "    * quais os tipos de variáveis? % de numéricas, categóricas e temporais.\n",
    "    \n",
    "* Quantidade de dados faltantes:\n",
    "    * qual o volume de dados NA?\n",
    "    * qual a razão de faltar dados? é o sistema? input manual?\n",
    "    \n",
    "* Resumo geral dos dados:\n",
    "    * estatística descritiva - importante para ter uma noção dos dados. dos limites máximos e mínimos.."
   ]
  },
  {
   "cell_type": "markdown",
   "id": "31cecf81",
   "metadata": {
    "hidden": true
   },
   "source": [
    "## Data Dictionary"
   ]
  },
  {
   "cell_type": "markdown",
   "id": "c08d56a8",
   "metadata": {
    "hidden": true
   },
   "source": [
    "* Id - an Id that represents a (Store, Date) duple within the test set\n",
    "* Store - a unique Id for each store\n",
    "* Sales - the turnover for any given day (this is what you are predicting)\n",
    "* Customers - the number of customers on a given day\n",
    "* Open - an indicator for whether the store was open: 0 = closed, 1 = open\n",
    "* StateHoliday - indicates a state holiday. Normally all stores, with few exceptions, are closed on state holidays. Note that all schools are closed on public holidays and weekends. a = public holiday, b = Easter holiday, c = Christmas, 0 = None\n",
    "* SchoolHoliday - indicates if the (Store, Date) was affected by the closure of public schools\n",
    "* StoreType - differentiates between 4 different store models: a, b, c, d\n",
    "* Assortment - describes an assortment level: a = basic, b = extra, c = extended\n",
    "* CompetitionDistance - distance in meters to the nearest competitor store\n",
    "* CompetitionOpenSince[Month/Year] - gives the approximate year and month of the time the nearest competitor was opened\n",
    "* Promo - indicates whether a store is running a promo on that day\n",
    "* Promo2 - Promo2 is a continuing and consecutive promotion for some stores: 0 = store is not participating, 1 = store is participating\n",
    "* Promo2Since[Year/Week] - describes the year and calendar week when the store started participating in Promo2\n",
    "* PromoInterval - describes the consecutive intervals Promo2 is started, naming the months the promotion is started anew. E.g. \"Feb,May,Aug,Nov\" means each round starts in February, May, August, November of any given year for that store"
   ]
  },
  {
   "cell_type": "markdown",
   "id": "9ad05fe6",
   "metadata": {
    "heading_collapsed": true,
    "hidden": true
   },
   "source": [
    "## 1.1 Rename Columns"
   ]
  },
  {
   "cell_type": "code",
   "execution_count": 7,
   "id": "45b409d2",
   "metadata": {
    "ExecuteTime": {
     "end_time": "2023-01-14T13:25:52.679093Z",
     "start_time": "2023-01-14T13:25:52.494683Z"
    },
    "hidden": true
   },
   "outputs": [],
   "source": [
    "df1 = df_raw.copy()"
   ]
  },
  {
   "cell_type": "markdown",
   "id": "3a5e7e19",
   "metadata": {
    "hidden": true
   },
   "source": [
    "É importante para criar um padrão nos nomes da coluna, além de renomear colunas que possuem nomes que não fazem muito sentido ou que são muito extensos. Isso facilita todo o desenvolvimento. Nesse ambiente do Kaggle e de datasets de estudo, as colunas já vem melhor nomeadas. Mas no contexto real nem sempre é assim. Por isso é uma boa prática realizar essa etapa."
   ]
  },
  {
   "cell_type": "code",
   "execution_count": 8,
   "id": "6111456c",
   "metadata": {
    "ExecuteTime": {
     "end_time": "2023-01-14T13:25:52.695045Z",
     "start_time": "2023-01-14T13:25:52.681018Z"
    },
    "code_folding": [],
    "hidden": true
   },
   "outputs": [
    {
     "data": {
      "text/plain": [
       "Index(['store', 'day_of_week', 'date', 'sales', 'customers', 'open', 'promo',\n",
       "       'state_holiday', 'school_holiday', 'store_type', 'assortment',\n",
       "       'competition_distance', 'competition_open_since_month',\n",
       "       'competition_open_since_year', 'promo2', 'promo2_since_week',\n",
       "       'promo2_since_year', 'promo_interval'],\n",
       "      dtype='object')"
      ]
     },
     "execution_count": 8,
     "metadata": {},
     "output_type": "execute_result"
    }
   ],
   "source": [
    "#colunas antigas\n",
    "cols_old = ['Store', 'DayOfWeek', 'Date', 'Sales', 'Customers', 'Open', 'Promo', 'StateHoliday', \n",
    "            'SchoolHoliday', 'StoreType', 'Assortment', 'CompetitionDistance', 'CompetitionOpenSinceMonth',\n",
    "            'CompetitionOpenSinceYear', 'Promo2', 'Promo2SinceWeek', 'Promo2SinceYear', 'PromoInterval']\n",
    "\n",
    "#função para alterar o nome das colunas para o formato snakecase\n",
    "change_to_snakecase = lambda x: inflection.underscore(x)\n",
    "\n",
    "#aplicando a função nas colunas antigas\n",
    "new_cols = list(map(change_to_snakecase, cols_old))\n",
    "\n",
    "#renomeando as colunas\n",
    "df1.columns = new_cols\n",
    "\n",
    "#verificando os novos nomes\n",
    "df1.columns"
   ]
  },
  {
   "cell_type": "markdown",
   "id": "0110708f",
   "metadata": {
    "heading_collapsed": true,
    "hidden": true
   },
   "source": [
    "## 1.2 Data dimension"
   ]
  },
  {
   "cell_type": "code",
   "execution_count": 9,
   "id": "5996b954",
   "metadata": {
    "ExecuteTime": {
     "end_time": "2023-01-14T13:25:52.710106Z",
     "start_time": "2023-01-14T13:25:52.697015Z"
    },
    "hidden": true
   },
   "outputs": [
    {
     "name": "stdout",
     "output_type": "stream",
     "text": [
      "Number of rows: 1017209\n",
      "Number of columns: 18\n"
     ]
    }
   ],
   "source": [
    "shape = df1.shape\n",
    "print(f'Number of rows: {shape[0]}')\n",
    "print(f'Number of columns: {shape[1]}')"
   ]
  },
  {
   "cell_type": "markdown",
   "id": "195b24bd",
   "metadata": {
    "heading_collapsed": true,
    "hidden": true
   },
   "source": [
    "## 1.3 Data types"
   ]
  },
  {
   "cell_type": "code",
   "execution_count": 10,
   "id": "c1dfa33c",
   "metadata": {
    "ExecuteTime": {
     "end_time": "2023-01-14T13:25:52.834798Z",
     "start_time": "2023-01-14T13:25:52.714015Z"
    },
    "hidden": true
   },
   "outputs": [
    {
     "data": {
      "text/plain": [
       "store                                    int64\n",
       "day_of_week                              int64\n",
       "date                            datetime64[ns]\n",
       "sales                                    int64\n",
       "customers                                int64\n",
       "open                                     int64\n",
       "promo                                    int64\n",
       "state_holiday                           object\n",
       "school_holiday                           int64\n",
       "store_type                              object\n",
       "assortment                              object\n",
       "competition_distance                   float64\n",
       "competition_open_since_month           float64\n",
       "competition_open_since_year            float64\n",
       "promo2                                   int64\n",
       "promo2_since_week                      float64\n",
       "promo2_since_year                      float64\n",
       "promo_interval                          object\n",
       "dtype: object"
      ]
     },
     "execution_count": 10,
     "metadata": {},
     "output_type": "execute_result"
    }
   ],
   "source": [
    "#alterando o tipo da coluna date para datetime (estava como object)\n",
    "df1['date'] = pd.to_datetime(df1['date'])\n",
    "\n",
    "df1.dtypes"
   ]
  },
  {
   "cell_type": "markdown",
   "id": "26fadc1e",
   "metadata": {
    "heading_collapsed": true,
    "hidden": true
   },
   "source": [
    "## 1.4 Verificação de dados faltantes"
   ]
  },
  {
   "cell_type": "code",
   "execution_count": 11,
   "id": "a2bda947",
   "metadata": {
    "ExecuteTime": {
     "end_time": "2023-01-14T13:25:53.194859Z",
     "start_time": "2023-01-14T13:25:52.836797Z"
    },
    "hidden": true
   },
   "outputs": [
    {
     "data": {
      "text/plain": [
       "store                                0\n",
       "day_of_week                          0\n",
       "date                                 0\n",
       "sales                                0\n",
       "customers                            0\n",
       "open                                 0\n",
       "promo                                0\n",
       "state_holiday                        0\n",
       "school_holiday                       0\n",
       "store_type                           0\n",
       "assortment                           0\n",
       "competition_distance              2642\n",
       "competition_open_since_month    323348\n",
       "competition_open_since_year     323348\n",
       "promo2                               0\n",
       "promo2_since_week               508031\n",
       "promo2_since_year               508031\n",
       "promo_interval                  508031\n",
       "dtype: int64"
      ]
     },
     "execution_count": 11,
     "metadata": {},
     "output_type": "execute_result"
    }
   ],
   "source": [
    "df1.isna().sum()"
   ]
  },
  {
   "cell_type": "markdown",
   "id": "35289df8",
   "metadata": {
    "heading_collapsed": true,
    "hidden": true
   },
   "source": [
    "## 1.5 Substituição dos dados faltantes"
   ]
  },
  {
   "cell_type": "markdown",
   "id": "b775911b",
   "metadata": {
    "hidden": true
   },
   "source": [
    "Existem basicamente três maneiras para lidar com dados faltantes:\n",
    "1. Eliminar as linhas que possuem NA\n",
    "    * Vantagem: rápido e fácil\n",
    "    * Desvantagem: pode desperdiçar dados\n",
    "    \n",
    "    \n",
    "2. Substituir os faltantes por métricas (média, mediana...) ou por previsão de algoritmos\n",
    "\n",
    "\n",
    "3. Conhecendo do negócio e entendendo por que esses NAs estão aí\n"
   ]
  },
  {
   "cell_type": "markdown",
   "id": "7c8b2e35",
   "metadata": {
    "ExecuteTime": {
     "end_time": "2023-01-13T00:18:16.256433Z",
     "start_time": "2023-01-13T00:18:15.866733Z"
    },
    "heading_collapsed": true,
    "hidden": true
   },
   "source": [
    "##### competition_distance"
   ]
  },
  {
   "cell_type": "markdown",
   "id": "e8c4f189",
   "metadata": {
    "ExecuteTime": {
     "end_time": "2023-01-13T00:18:16.256433Z",
     "start_time": "2023-01-13T00:18:15.866733Z"
    },
    "hidden": true
   },
   "source": [
    "É a distância em metros até a loja concorrente mais próxima.\n",
    "\n",
    "* Hipótese: se esse valor está nulo, é porque não há competidor próximo. O concorrente está muito longe.\n",
    "\n",
    "  Assumindo essa hipótese, substituirei os nulos dessa coluna por um 3x maior que o maior valor da coluna. "
   ]
  },
  {
   "cell_type": "code",
   "execution_count": 12,
   "id": "a75b2542",
   "metadata": {
    "ExecuteTime": {
     "end_time": "2023-01-14T13:25:53.395662Z",
     "start_time": "2023-01-14T13:25:53.196726Z"
    },
    "hidden": true
   },
   "outputs": [],
   "source": [
    "max_value = df1['competition_distance'].max()\n",
    "df1['competition_distance'] = df1['competition_distance'].apply(lambda x: max_value*3 if math.isnan(x) else x)"
   ]
  },
  {
   "cell_type": "markdown",
   "id": "3e7c779e",
   "metadata": {
    "ExecuteTime": {
     "end_time": "2023-01-13T00:18:16.256433Z",
     "start_time": "2023-01-13T00:18:15.866733Z"
    },
    "heading_collapsed": true,
    "hidden": true
   },
   "source": [
    "#### competition_open_since_month & competition_open_since_year "
   ]
  },
  {
   "cell_type": "markdown",
   "id": "8a0c3d93",
   "metadata": {
    "hidden": true
   },
   "source": [
    "Dá aproximadamente o ano e o mês em que o competidor mais próximo foi aberto.\n",
    "\n",
    "Pensando no negócio, essa coluna pode estar nula basicamente por duas razões:\n",
    "1. Não existe um competidor próximo.\n",
    "2. Existe um competidor mas alguém esqueceu de anotar, ou porque abriu muito antes ou muito depois.\n",
    "\n",
    "Hipótese: Irei optar por manter essa coluna pois acredito que ela deve inlfuenciar nos resultados, já que o fato de uma loja possuir um competidor próximo ou não impacta diretamente nas vendas. Ainda mais nos casos em que temos um valor preenchido para 'competition_distance', não faria sentido colocar 0 para a 'competition_open_since_month' e 'competition_open_since_year', já que está sendo afirmado que existe um competidor.\n",
    "\n",
    "Para preencher a coluna, então, pegarei o mês e o ano da linha em questão."
   ]
  },
  {
   "cell_type": "code",
   "execution_count": 13,
   "id": "827d8560",
   "metadata": {
    "ExecuteTime": {
     "end_time": "2023-01-14T13:26:18.484512Z",
     "start_time": "2023-01-14T13:25:53.397664Z"
    },
    "hidden": true
   },
   "outputs": [],
   "source": [
    "df1['competition_open_since_month'] = df1.apply(lambda x: x['date'].month if math.isnan(x['competition_open_since_month']) else x['competition_open_since_month'], axis=1)\n",
    "df1['competition_open_since_year'] = df1.apply(lambda x: x['date'].year if math.isnan(x['competition_open_since_year']) else x['competition_open_since_year'], axis=1)"
   ]
  },
  {
   "cell_type": "markdown",
   "id": "3e472f8c",
   "metadata": {
    "heading_collapsed": true,
    "hidden": true
   },
   "source": [
    "#### promo2_since_week & promo2_since_year"
   ]
  },
  {
   "cell_type": "markdown",
   "id": "b399ce79",
   "metadata": {
    "ExecuteTime": {
     "end_time": "2023-01-13T00:57:21.335936Z",
     "start_time": "2023-01-13T00:57:21.314938Z"
    },
    "hidden": true
   },
   "source": [
    "Descreve o ano e a semana do calendário quando a loja começou a participar da Promo2. A Promo2 é a continuação de uma primeira promoção (0 se não participar dessa continuação e 1 se participou).\n",
    "\n",
    "Para a substituição dos faltantes nessa coluna, seguirei a mesma lógica das colunas 'competition_open_since_month' e 'competition_open_since_year'."
   ]
  },
  {
   "cell_type": "code",
   "execution_count": 14,
   "id": "e44dd9fe",
   "metadata": {
    "ExecuteTime": {
     "end_time": "2023-01-14T13:26:44.693632Z",
     "start_time": "2023-01-14T13:26:18.486773Z"
    },
    "hidden": true
   },
   "outputs": [],
   "source": [
    "df1['promo2_since_week'] = df1.apply(lambda x: x['date'].week if math.isnan(x['promo2_since_week']) else x['promo2_since_week'], axis=1)\n",
    "df1['promo2_since_year'] = df1.apply(lambda x: x['date'].year if math.isnan(x['promo2_since_year']) else x['promo2_since_year'], axis=1)"
   ]
  },
  {
   "cell_type": "markdown",
   "id": "ad58545c",
   "metadata": {
    "ExecuteTime": {
     "end_time": "2023-01-13T00:18:16.256433Z",
     "start_time": "2023-01-13T00:18:15.866733Z"
    },
    "heading_collapsed": true,
    "hidden": true
   },
   "source": [
    "#### promo_interval              "
   ]
  },
  {
   "cell_type": "markdown",
   "id": "499848c1",
   "metadata": {
    "hidden": true
   },
   "source": [
    "Descreve os intervalos consecutivos que a Promo2 começou, nomeando os meses que a promoção ficou ativa. Por exemplo, \"Feb, May, Aug, Nov\" significa que cada round começou em Fevereiro, depois de novo em Maio, Agosto e Novembro do ano descrito para a loja específica.\n",
    "\n",
    "* Caso o campo dessa coluna esteja nulo, será substituído por 0, indicando que não foi feita continuação da Promo2."
   ]
  },
  {
   "cell_type": "code",
   "execution_count": 15,
   "id": "f05faddd",
   "metadata": {
    "ExecuteTime": {
     "end_time": "2023-01-14T13:26:55.861629Z",
     "start_time": "2023-01-14T13:26:44.696697Z"
    },
    "hidden": true
   },
   "outputs": [],
   "source": [
    "#diicionário para mapear os meses\n",
    "month_map = {\n",
    "    1:'Jan',\n",
    "    2:'Feb',\n",
    "    3:'Mar',\n",
    "    4:'Apr',\n",
    "    5:'May',\n",
    "    6:'Jun',\n",
    "    7:'Jul',\n",
    "    8:'Aug',\n",
    "    9:'Sept',\n",
    "    10:'Oct',\n",
    "    11:'Nov',\n",
    "    12:'Dec'\n",
    "}\n",
    "\n",
    "#preenche os nulos com 0\n",
    "df1['promo_interval'].fillna(0, inplace=True)\n",
    "\n",
    "#cria uma coluna 'month_map' com o nome dos meses\n",
    "df1['month_map'] = df1.date.dt.month.map(month_map)\n",
    "\n",
    "#cria uma coluna 'is_promo' que indica se no mês do registro teve Promo2 ou não\n",
    "df1['is_promo'] = df1[['promo_interval', 'month_map']].apply(lambda x: 0 if x['promo_interval'] == 0 else 1 if x['month_map'] in x['promo_interval'].split(',') else 0, axis=1)"
   ]
  },
  {
   "cell_type": "markdown",
   "id": "78ad866e",
   "metadata": {
    "heading_collapsed": true,
    "hidden": true
   },
   "source": [
    "### 1.5.1 Verificando de novo os Data Types"
   ]
  },
  {
   "cell_type": "code",
   "execution_count": 16,
   "id": "eff428d0",
   "metadata": {
    "ExecuteTime": {
     "end_time": "2023-01-14T13:26:55.939094Z",
     "start_time": "2023-01-14T13:26:55.865650Z"
    },
    "hidden": true
   },
   "outputs": [],
   "source": [
    "# competition_open_since_month\n",
    "df1['competition_open_since_month'] = df1['competition_open_since_month'].astype(int)\n",
    "\n",
    "# competition_open_since_year \n",
    "df1['competition_open_since_year'] = df1['competition_open_since_year'].astype(int)\n",
    "\n",
    "# promo2_since_week           \n",
    "df1['promo2_since_week'] = df1['promo2_since_week'].astype(int)\n",
    "\n",
    "# promo2_since_year           \n",
    "df1['promo2_since_year'] = df1['promo2_since_year'].astype(int)"
   ]
  },
  {
   "cell_type": "code",
   "execution_count": 17,
   "id": "39359e08",
   "metadata": {
    "ExecuteTime": {
     "end_time": "2023-01-14T13:26:55.954750Z",
     "start_time": "2023-01-14T13:26:55.941104Z"
    },
    "hidden": true
   },
   "outputs": [
    {
     "data": {
      "text/plain": [
       "store                                    int64\n",
       "day_of_week                              int64\n",
       "date                            datetime64[ns]\n",
       "sales                                    int64\n",
       "customers                                int64\n",
       "open                                     int64\n",
       "promo                                    int64\n",
       "state_holiday                           object\n",
       "school_holiday                           int64\n",
       "store_type                              object\n",
       "assortment                              object\n",
       "competition_distance                   float64\n",
       "competition_open_since_month             int32\n",
       "competition_open_since_year              int32\n",
       "promo2                                   int64\n",
       "promo2_since_week                        int32\n",
       "promo2_since_year                        int32\n",
       "promo_interval                          object\n",
       "month_map                               object\n",
       "is_promo                                 int64\n",
       "dtype: object"
      ]
     },
     "execution_count": 17,
     "metadata": {},
     "output_type": "execute_result"
    }
   ],
   "source": [
    "df1.dtypes"
   ]
  },
  {
   "cell_type": "markdown",
   "id": "3b537d20",
   "metadata": {
    "heading_collapsed": true,
    "hidden": true
   },
   "source": [
    "## 1.6 Estatística Descritiva "
   ]
  },
  {
   "cell_type": "markdown",
   "id": "d0fc4c55",
   "metadata": {
    "hidden": true
   },
   "source": [
    "A estatística descritiva é útil por, basicamente, duas razões:\n",
    "\n",
    "1. Por meio dela é possível ganhar conhecimento de negócio:\n",
    "    * Métricas de dispersão (saber o quão esparso os dados estão em torno da média)\n",
    "    * Métricas de tendência central (resumem os dados em um único número)\n",
    "    \n",
    "    \n",
    "2. Detecção de erros\n",
    "    * Por ex, se tiver um valor de vendas negativo, isso não faz sentido nenhum"
   ]
  },
  {
   "cell_type": "markdown",
   "id": "00eba11a",
   "metadata": {
    "heading_collapsed": true,
    "hidden": true
   },
   "source": [
    "### 1.6.1 Separação em atributos numéricos e categóricos"
   ]
  },
  {
   "cell_type": "code",
   "execution_count": 18,
   "id": "be0f134c",
   "metadata": {
    "ExecuteTime": {
     "end_time": "2023-01-14T13:26:56.109093Z",
     "start_time": "2023-01-14T13:26:55.957265Z"
    },
    "hidden": true
   },
   "outputs": [],
   "source": [
    "#separação das colunas em categóricas e numéricas\n",
    "\n",
    "num_attributes = df1.select_dtypes(include=['int64', 'int32', 'float64'])\n",
    "cat_attributes = df1.select_dtypes(exclude=['int64', 'int32', 'float64', 'datetime64[ns]'])"
   ]
  },
  {
   "cell_type": "code",
   "execution_count": 19,
   "id": "d8d4c666",
   "metadata": {
    "ExecuteTime": {
     "end_time": "2023-01-14T13:26:56.186802Z",
     "start_time": "2023-01-14T13:26:56.111006Z"
    },
    "hidden": true
   },
   "outputs": [
    {
     "data": {
      "text/html": [
       "<div>\n",
       "<style scoped>\n",
       "    .dataframe tbody tr th:only-of-type {\n",
       "        vertical-align: middle;\n",
       "    }\n",
       "\n",
       "    .dataframe tbody tr th {\n",
       "        vertical-align: top;\n",
       "    }\n",
       "\n",
       "    .dataframe thead th {\n",
       "        text-align: right;\n",
       "    }\n",
       "</style>\n",
       "<table border=\"1\" class=\"dataframe\">\n",
       "  <thead>\n",
       "    <tr style=\"text-align: right;\">\n",
       "      <th></th>\n",
       "      <th>store</th>\n",
       "      <th>day_of_week</th>\n",
       "      <th>sales</th>\n",
       "      <th>customers</th>\n",
       "      <th>open</th>\n",
       "      <th>promo</th>\n",
       "      <th>school_holiday</th>\n",
       "      <th>competition_distance</th>\n",
       "      <th>competition_open_since_month</th>\n",
       "      <th>competition_open_since_year</th>\n",
       "      <th>promo2</th>\n",
       "      <th>promo2_since_week</th>\n",
       "      <th>promo2_since_year</th>\n",
       "      <th>is_promo</th>\n",
       "    </tr>\n",
       "  </thead>\n",
       "  <tbody>\n",
       "    <tr>\n",
       "      <th>163697</th>\n",
       "      <td>908</td>\n",
       "      <td>6</td>\n",
       "      <td>2165</td>\n",
       "      <td>213</td>\n",
       "      <td>1</td>\n",
       "      <td>0</td>\n",
       "      <td>0</td>\n",
       "      <td>1980.0</td>\n",
       "      <td>7</td>\n",
       "      <td>2010</td>\n",
       "      <td>1</td>\n",
       "      <td>37</td>\n",
       "      <td>2009</td>\n",
       "      <td>0</td>\n",
       "    </tr>\n",
       "  </tbody>\n",
       "</table>\n",
       "</div>"
      ],
      "text/plain": [
       "        store  day_of_week  sales  customers  open  promo  school_holiday  \\\n",
       "163697    908            6   2165        213     1      0               0   \n",
       "\n",
       "        competition_distance  competition_open_since_month  \\\n",
       "163697                1980.0                             7   \n",
       "\n",
       "        competition_open_since_year  promo2  promo2_since_week  \\\n",
       "163697                         2010       1                 37   \n",
       "\n",
       "        promo2_since_year  is_promo  \n",
       "163697               2009         0  "
      ]
     },
     "metadata": {},
     "output_type": "display_data"
    },
    {
     "data": {
      "text/html": [
       "<div>\n",
       "<style scoped>\n",
       "    .dataframe tbody tr th:only-of-type {\n",
       "        vertical-align: middle;\n",
       "    }\n",
       "\n",
       "    .dataframe tbody tr th {\n",
       "        vertical-align: top;\n",
       "    }\n",
       "\n",
       "    .dataframe thead th {\n",
       "        text-align: right;\n",
       "    }\n",
       "</style>\n",
       "<table border=\"1\" class=\"dataframe\">\n",
       "  <thead>\n",
       "    <tr style=\"text-align: right;\">\n",
       "      <th></th>\n",
       "      <th>state_holiday</th>\n",
       "      <th>store_type</th>\n",
       "      <th>assortment</th>\n",
       "      <th>promo_interval</th>\n",
       "      <th>month_map</th>\n",
       "    </tr>\n",
       "  </thead>\n",
       "  <tbody>\n",
       "    <tr>\n",
       "      <th>617060</th>\n",
       "      <td>c</td>\n",
       "      <td>a</td>\n",
       "      <td>c</td>\n",
       "      <td>Feb,May,Aug,Nov</td>\n",
       "      <td>Dec</td>\n",
       "    </tr>\n",
       "  </tbody>\n",
       "</table>\n",
       "</div>"
      ],
      "text/plain": [
       "       state_holiday store_type assortment   promo_interval month_map\n",
       "617060             c          a          c  Feb,May,Aug,Nov       Dec"
      ]
     },
     "metadata": {},
     "output_type": "display_data"
    }
   ],
   "source": [
    "display(num_attributes.sample())\n",
    "display(cat_attributes.sample())"
   ]
  },
  {
   "cell_type": "markdown",
   "id": "34e2f146",
   "metadata": {
    "heading_collapsed": true,
    "hidden": true
   },
   "source": [
    "### 1.6.2 Atributos numéricos"
   ]
  },
  {
   "cell_type": "markdown",
   "id": "572fd029",
   "metadata": {
    "hidden": true
   },
   "source": [
    "<b> Medidas de tendência central </b>"
   ]
  },
  {
   "cell_type": "code",
   "execution_count": 20,
   "id": "b3bb3f53",
   "metadata": {
    "ExecuteTime": {
     "end_time": "2023-01-14T13:26:56.839540Z",
     "start_time": "2023-01-14T13:26:56.188805Z"
    },
    "hidden": true
   },
   "outputs": [],
   "source": [
    "central_tendency = num_attributes.describe().loc[[\"mean\", \"50%\"]].T\n",
    "central_tendency.columns = ['mean', 'median']"
   ]
  },
  {
   "cell_type": "markdown",
   "id": "eb322a01",
   "metadata": {
    "hidden": true
   },
   "source": [
    "<b> Medidas de dispersão </b>"
   ]
  },
  {
   "cell_type": "code",
   "execution_count": 21,
   "id": "0d7b31dd",
   "metadata": {
    "ExecuteTime": {
     "end_time": "2023-01-14T13:26:57.876809Z",
     "start_time": "2023-01-14T13:26:56.841572Z"
    },
    "hidden": true
   },
   "outputs": [],
   "source": [
    "dispersion = num_attributes.describe().loc[['min', 'max', 'std']].T\n",
    "dispersion['range'] = dispersion[['min', 'max']].apply(lambda x: x['max'] - x['min'], axis=1)\n",
    "dispersion['skewness'] = num_attributes.apply(lambda x: x.skew())\n",
    "dispersion['kurtosis'] = num_attributes.apply(lambda x: x.kurtosis())"
   ]
  },
  {
   "cell_type": "markdown",
   "id": "0b171178",
   "metadata": {
    "ExecuteTime": {
     "end_time": "2023-01-13T14:57:35.516056Z",
     "start_time": "2023-01-13T14:57:35.488624Z"
    },
    "hidden": true
   },
   "source": [
    "<b> Concatenação das medidas de tendência central e dispersão </b>"
   ]
  },
  {
   "cell_type": "code",
   "execution_count": 22,
   "id": "790f8935",
   "metadata": {
    "ExecuteTime": {
     "end_time": "2023-01-14T13:26:57.907761Z",
     "start_time": "2023-01-14T13:26:57.880811Z"
    },
    "hidden": true
   },
   "outputs": [
    {
     "data": {
      "text/html": [
       "<div>\n",
       "<style scoped>\n",
       "    .dataframe tbody tr th:only-of-type {\n",
       "        vertical-align: middle;\n",
       "    }\n",
       "\n",
       "    .dataframe tbody tr th {\n",
       "        vertical-align: top;\n",
       "    }\n",
       "\n",
       "    .dataframe thead th {\n",
       "        text-align: right;\n",
       "    }\n",
       "</style>\n",
       "<table border=\"1\" class=\"dataframe\">\n",
       "  <thead>\n",
       "    <tr style=\"text-align: right;\">\n",
       "      <th></th>\n",
       "      <th>attributes</th>\n",
       "      <th>min</th>\n",
       "      <th>max</th>\n",
       "      <th>range</th>\n",
       "      <th>mean</th>\n",
       "      <th>median</th>\n",
       "      <th>std</th>\n",
       "      <th>skewness</th>\n",
       "      <th>kurtosis</th>\n",
       "    </tr>\n",
       "  </thead>\n",
       "  <tbody>\n",
       "    <tr>\n",
       "      <th>0</th>\n",
       "      <td>store</td>\n",
       "      <td>1.0</td>\n",
       "      <td>1115.0</td>\n",
       "      <td>1114.0</td>\n",
       "      <td>558.429727</td>\n",
       "      <td>558.0</td>\n",
       "      <td>321.908651</td>\n",
       "      <td>-0.000955</td>\n",
       "      <td>-1.200524</td>\n",
       "    </tr>\n",
       "    <tr>\n",
       "      <th>1</th>\n",
       "      <td>day_of_week</td>\n",
       "      <td>1.0</td>\n",
       "      <td>7.0</td>\n",
       "      <td>6.0</td>\n",
       "      <td>3.998341</td>\n",
       "      <td>4.0</td>\n",
       "      <td>1.997391</td>\n",
       "      <td>0.001593</td>\n",
       "      <td>-1.246873</td>\n",
       "    </tr>\n",
       "    <tr>\n",
       "      <th>2</th>\n",
       "      <td>sales</td>\n",
       "      <td>0.0</td>\n",
       "      <td>41551.0</td>\n",
       "      <td>41551.0</td>\n",
       "      <td>5773.818972</td>\n",
       "      <td>5744.0</td>\n",
       "      <td>3849.926175</td>\n",
       "      <td>0.641460</td>\n",
       "      <td>1.778375</td>\n",
       "    </tr>\n",
       "    <tr>\n",
       "      <th>3</th>\n",
       "      <td>customers</td>\n",
       "      <td>0.0</td>\n",
       "      <td>7388.0</td>\n",
       "      <td>7388.0</td>\n",
       "      <td>633.145946</td>\n",
       "      <td>609.0</td>\n",
       "      <td>464.411734</td>\n",
       "      <td>1.598650</td>\n",
       "      <td>7.091773</td>\n",
       "    </tr>\n",
       "    <tr>\n",
       "      <th>4</th>\n",
       "      <td>open</td>\n",
       "      <td>0.0</td>\n",
       "      <td>1.0</td>\n",
       "      <td>1.0</td>\n",
       "      <td>0.830107</td>\n",
       "      <td>1.0</td>\n",
       "      <td>0.375539</td>\n",
       "      <td>-1.758045</td>\n",
       "      <td>1.090723</td>\n",
       "    </tr>\n",
       "    <tr>\n",
       "      <th>5</th>\n",
       "      <td>promo</td>\n",
       "      <td>0.0</td>\n",
       "      <td>1.0</td>\n",
       "      <td>1.0</td>\n",
       "      <td>0.381515</td>\n",
       "      <td>0.0</td>\n",
       "      <td>0.485759</td>\n",
       "      <td>0.487838</td>\n",
       "      <td>-1.762018</td>\n",
       "    </tr>\n",
       "    <tr>\n",
       "      <th>6</th>\n",
       "      <td>school_holiday</td>\n",
       "      <td>0.0</td>\n",
       "      <td>1.0</td>\n",
       "      <td>1.0</td>\n",
       "      <td>0.178647</td>\n",
       "      <td>0.0</td>\n",
       "      <td>0.383056</td>\n",
       "      <td>1.677842</td>\n",
       "      <td>0.815154</td>\n",
       "    </tr>\n",
       "    <tr>\n",
       "      <th>7</th>\n",
       "      <td>competition_distance</td>\n",
       "      <td>20.0</td>\n",
       "      <td>227580.0</td>\n",
       "      <td>227560.0</td>\n",
       "      <td>6007.076294</td>\n",
       "      <td>2330.0</td>\n",
       "      <td>13682.735149</td>\n",
       "      <td>11.512969</td>\n",
       "      <td>177.136255</td>\n",
       "    </tr>\n",
       "    <tr>\n",
       "      <th>8</th>\n",
       "      <td>competition_open_since_month</td>\n",
       "      <td>1.0</td>\n",
       "      <td>12.0</td>\n",
       "      <td>11.0</td>\n",
       "      <td>6.786849</td>\n",
       "      <td>7.0</td>\n",
       "      <td>3.311087</td>\n",
       "      <td>-0.042076</td>\n",
       "      <td>-1.232607</td>\n",
       "    </tr>\n",
       "    <tr>\n",
       "      <th>9</th>\n",
       "      <td>competition_open_since_year</td>\n",
       "      <td>1900.0</td>\n",
       "      <td>2015.0</td>\n",
       "      <td>115.0</td>\n",
       "      <td>2010.324840</td>\n",
       "      <td>2012.0</td>\n",
       "      <td>5.515593</td>\n",
       "      <td>-7.235657</td>\n",
       "      <td>124.071304</td>\n",
       "    </tr>\n",
       "    <tr>\n",
       "      <th>10</th>\n",
       "      <td>promo2</td>\n",
       "      <td>0.0</td>\n",
       "      <td>1.0</td>\n",
       "      <td>1.0</td>\n",
       "      <td>0.500564</td>\n",
       "      <td>1.0</td>\n",
       "      <td>0.500000</td>\n",
       "      <td>-0.002255</td>\n",
       "      <td>-1.999999</td>\n",
       "    </tr>\n",
       "    <tr>\n",
       "      <th>11</th>\n",
       "      <td>promo2_since_week</td>\n",
       "      <td>1.0</td>\n",
       "      <td>52.0</td>\n",
       "      <td>51.0</td>\n",
       "      <td>23.619033</td>\n",
       "      <td>22.0</td>\n",
       "      <td>14.310064</td>\n",
       "      <td>0.178723</td>\n",
       "      <td>-1.184046</td>\n",
       "    </tr>\n",
       "    <tr>\n",
       "      <th>12</th>\n",
       "      <td>promo2_since_year</td>\n",
       "      <td>2009.0</td>\n",
       "      <td>2015.0</td>\n",
       "      <td>6.0</td>\n",
       "      <td>2012.793297</td>\n",
       "      <td>2013.0</td>\n",
       "      <td>1.662658</td>\n",
       "      <td>-0.784436</td>\n",
       "      <td>-0.210075</td>\n",
       "    </tr>\n",
       "    <tr>\n",
       "      <th>13</th>\n",
       "      <td>is_promo</td>\n",
       "      <td>0.0</td>\n",
       "      <td>1.0</td>\n",
       "      <td>1.0</td>\n",
       "      <td>0.171835</td>\n",
       "      <td>0.0</td>\n",
       "      <td>0.377237</td>\n",
       "      <td>1.739838</td>\n",
       "      <td>1.027039</td>\n",
       "    </tr>\n",
       "  </tbody>\n",
       "</table>\n",
       "</div>"
      ],
      "text/plain": [
       "                      attributes     min       max     range         mean  \\\n",
       "0                          store     1.0    1115.0    1114.0   558.429727   \n",
       "1                    day_of_week     1.0       7.0       6.0     3.998341   \n",
       "2                          sales     0.0   41551.0   41551.0  5773.818972   \n",
       "3                      customers     0.0    7388.0    7388.0   633.145946   \n",
       "4                           open     0.0       1.0       1.0     0.830107   \n",
       "5                          promo     0.0       1.0       1.0     0.381515   \n",
       "6                 school_holiday     0.0       1.0       1.0     0.178647   \n",
       "7           competition_distance    20.0  227580.0  227560.0  6007.076294   \n",
       "8   competition_open_since_month     1.0      12.0      11.0     6.786849   \n",
       "9    competition_open_since_year  1900.0    2015.0     115.0  2010.324840   \n",
       "10                        promo2     0.0       1.0       1.0     0.500564   \n",
       "11             promo2_since_week     1.0      52.0      51.0    23.619033   \n",
       "12             promo2_since_year  2009.0    2015.0       6.0  2012.793297   \n",
       "13                      is_promo     0.0       1.0       1.0     0.171835   \n",
       "\n",
       "    median           std   skewness    kurtosis  \n",
       "0    558.0    321.908651  -0.000955   -1.200524  \n",
       "1      4.0      1.997391   0.001593   -1.246873  \n",
       "2   5744.0   3849.926175   0.641460    1.778375  \n",
       "3    609.0    464.411734   1.598650    7.091773  \n",
       "4      1.0      0.375539  -1.758045    1.090723  \n",
       "5      0.0      0.485759   0.487838   -1.762018  \n",
       "6      0.0      0.383056   1.677842    0.815154  \n",
       "7   2330.0  13682.735149  11.512969  177.136255  \n",
       "8      7.0      3.311087  -0.042076   -1.232607  \n",
       "9   2012.0      5.515593  -7.235657  124.071304  \n",
       "10     1.0      0.500000  -0.002255   -1.999999  \n",
       "11    22.0     14.310064   0.178723   -1.184046  \n",
       "12  2013.0      1.662658  -0.784436   -0.210075  \n",
       "13     0.0      0.377237   1.739838    1.027039  "
      ]
     },
     "execution_count": 22,
     "metadata": {},
     "output_type": "execute_result"
    }
   ],
   "source": [
    "descriptive_statistics = pd.concat([central_tendency, dispersion], axis=1)\n",
    "descriptive_statistics = descriptive_statistics.reset_index()\n",
    "descriptive_statistics.rename(columns={'index': 'attributes'}, inplace=True)\n",
    "descriptive_statistics[['attributes', 'min', 'max', 'range', 'mean', 'median', 'std', 'skewness', 'kurtosis']]"
   ]
  },
  {
   "cell_type": "markdown",
   "id": "8ad85d2d",
   "metadata": {
    "ExecuteTime": {
     "end_time": "2023-01-13T15:03:11.006760Z",
     "start_time": "2023-01-13T15:03:10.987308Z"
    },
    "hidden": true
   },
   "source": [
    "<b> Alguns insights </b>"
   ]
  },
  {
   "cell_type": "markdown",
   "id": "e02f777b",
   "metadata": {
    "hidden": true
   },
   "source": [
    "'sales'\n",
    "* não existem vendas negativas, o que dá uma primeira impressão de ausência de erros na inserção desses dados.\n",
    "* a explicação para vendas igual a 0 é de que a loja estava fechada no momento em que isso foi analisado. \n",
    "* a média e mediana são bem parecidas, ou seja, essa distribuição não é tão distoante da normal, o que é visto também pela skew bem próxima de zero e a kurtosis de 1.77, que mostra que não existe um pico muito grande."
   ]
  },
  {
   "cell_type": "code",
   "execution_count": 23,
   "id": "64fcc530",
   "metadata": {
    "ExecuteTime": {
     "end_time": "2023-01-14T13:26:58.311119Z",
     "start_time": "2023-01-14T13:26:57.910856Z"
    },
    "hidden": true
   },
   "outputs": [
    {
     "data": {
      "text/plain": [
       "[]"
      ]
     },
     "execution_count": 23,
     "metadata": {},
     "output_type": "execute_result"
    },
    {
     "data": {
      "image/png": "[encoded data removed]",
      "text/plain": [
       "<Figure size 640x480 with 1 Axes>"
      ]
     },
     "metadata": {},
     "output_type": "display_data"
    }
   ],
   "source": [
    "df1['sales'].hist(bins=50)\n",
    "plt.plot()"
   ]
  },
  {
   "cell_type": "markdown",
   "id": "3a31df32",
   "metadata": {
    "hidden": true
   },
   "source": [
    "'competition_distance'\n",
    "\n",
    "* skew positiva alta --> alto deslocamento dos dados para a esquerda, dados concentrados à esquerda\n",
    "* kurtosis positiva muito alta --> existe um pico muito grande, os dados estão bem concentrados ao redor da média"
   ]
  },
  {
   "cell_type": "code",
   "execution_count": 24,
   "id": "09d29439",
   "metadata": {
    "ExecuteTime": {
     "end_time": "2023-01-14T13:26:58.621508Z",
     "start_time": "2023-01-14T13:26:58.315559Z"
    },
    "hidden": true
   },
   "outputs": [
    {
     "data": {
      "text/plain": [
       "[]"
      ]
     },
     "execution_count": 24,
     "metadata": {},
     "output_type": "execute_result"
    },
    {
     "data": {
      "image/png": "[encoded data removed]",
      "text/plain": [
       "<Figure size 640x480 with 1 Axes>"
      ]
     },
     "metadata": {},
     "output_type": "display_data"
    }
   ],
   "source": [
    "df1['competition_distance'].hist(bins=50)\n",
    "plt.plot()"
   ]
  },
  {
   "cell_type": "markdown",
   "id": "c599a332",
   "metadata": {
    "hidden": true
   },
   "source": [
    "'customers'\n",
    "\n",
    "* média de 633 clientes por dia circulando nas lojas, com désvio padrão de 464, então as vezes tem 1000 pessoas, as vezes 200.\n",
    "* skew positiva de 1.6 --> dados concentrados a esquerda (cauda formada à direita), mas não tão concentrados. A média é maior que a mediana, isso significa que há mais dias em que circula um número de clientes abaixo da média.\n",
    "* kurtosis positiva de 7 --> existe um pico nos dados e estão concentrados ao redor da média"
   ]
  },
  {
   "cell_type": "code",
   "execution_count": 25,
   "id": "7e5f875d",
   "metadata": {
    "ExecuteTime": {
     "end_time": "2023-01-14T13:26:59.056651Z",
     "start_time": "2023-01-14T13:26:58.624624Z"
    },
    "hidden": true
   },
   "outputs": [
    {
     "data": {
      "text/plain": [
       "[]"
      ]
     },
     "execution_count": 25,
     "metadata": {},
     "output_type": "execute_result"
    },
    {
     "data": {
      "image/png": "[encoded data removed]",
      "text/plain": [
       "<Figure size 640x480 with 1 Axes>"
      ]
     },
     "metadata": {},
     "output_type": "display_data"
    }
   ],
   "source": [
    "df1['customers'].hist(bins=70)\n",
    "plt.plot()"
   ]
  },
  {
   "cell_type": "markdown",
   "id": "f3d77d91",
   "metadata": {
    "hidden": true
   },
   "source": [
    "### 1.6.3 Atributos categóricos"
   ]
  },
  {
   "cell_type": "code",
   "execution_count": 26,
   "id": "ddf571fa",
   "metadata": {
    "ExecuteTime": {
     "end_time": "2023-01-14T13:26:59.336759Z",
     "start_time": "2023-01-14T13:26:59.059728Z"
    },
    "hidden": true
   },
   "outputs": [
    {
     "data": {
      "text/plain": [
       "state_holiday      4\n",
       "store_type         4\n",
       "assortment         3\n",
       "promo_interval     4\n",
       "month_map         12\n",
       "dtype: int64"
      ]
     },
     "execution_count": 26,
     "metadata": {},
     "output_type": "execute_result"
    }
   ],
   "source": [
    "#quantos únicos cada coluna tem\n",
    "cat_attributes.apply(lambda x: x.nunique())"
   ]
  },
  {
   "cell_type": "code",
   "execution_count": 27,
   "id": "557cb904",
   "metadata": {
    "ExecuteTime": {
     "end_time": "2023-01-14T13:27:01.106792Z",
     "start_time": "2023-01-14T13:26:59.340722Z"
    },
    "hidden": true
   },
   "outputs": [
    {
     "data": {
      "image/png": "[encoded data removed]",
      "text/plain": [
       "<Figure size 2000x800 with 3 Axes>"
      ]
     },
     "metadata": {},
     "output_type": "display_data"
    }
   ],
   "source": [
    "#quanto tem de cada categoria\n",
    "plt.figure(figsize=(20, 8))\n",
    "\n",
    "plt.subplot(1, 3, 1)\n",
    "sns.countplot(data=df1, x='state_holiday')\n",
    "\n",
    "plt.subplot(1, 3, 2)\n",
    "sns.countplot(data=df1, x='store_type')\n",
    "\n",
    "plt.subplot(1, 3, 3)\n",
    "sns.countplot(data=df1, x='assortment')\n",
    "\n",
    "plt.show()"
   ]
  },
  {
   "cell_type": "code",
   "execution_count": 28,
   "id": "66431267",
   "metadata": {
    "ExecuteTime": {
     "end_time": "2023-01-14T13:27:03.158759Z",
     "start_time": "2023-01-14T13:27:01.116532Z"
    },
    "hidden": true
   },
   "outputs": [
    {
     "data": {
      "image/png": "[encoded data removed]",
      "text/plain": [
       "<Figure size 2000x800 with 3 Axes>"
      ]
     },
     "metadata": {},
     "output_type": "display_data"
    }
   ],
   "source": [
    "#comparação entre as vendas e 'state_holiday', 'assortment' e 'store_type'\n",
    "aux = df1[(df1['state_holiday'] != 0) & (df1['sales'] > 0)]\n",
    "\n",
    "plt.figure(figsize=(20, 8))\n",
    "\n",
    "plt.subplot(1, 3, 1)\n",
    "sns.boxplot(data=aux, x='state_holiday', y='sales')\n",
    "\n",
    "plt.subplot(1, 3, 2)\n",
    "sns.boxplot(data=aux, x='store_type', y='sales')\n",
    "\n",
    "plt.subplot(1, 3, 3)\n",
    "sns.boxplot(data=aux, x='assortment', y='sales')\n",
    "\n",
    "plt.show()"
   ]
  },
  {
   "cell_type": "markdown",
   "id": "a67dc914",
   "metadata": {
    "heading_collapsed": true
   },
   "source": [
    "# 2.0 Feature Engineering"
   ]
  },
  {
   "cell_type": "markdown",
   "id": "47e37254",
   "metadata": {
    "heading_collapsed": true,
    "hidden": true
   },
   "source": [
    "## Qual é a motivação por trás dessa tarefa?"
   ]
  },
  {
   "cell_type": "markdown",
   "id": "5a12efd8",
   "metadata": {
    "hidden": true
   },
   "source": [
    "É preciso realizar essa tarefa para possuir as variáveis disponíveis para estudo durante a análise exploratória de dados.\n",
    "\n",
    "Isso ajuda também a tornar o código mais limpo e mais dividido, para evitar de criar as variáveis durante a análise exploratória de dados e daí misturar duas etapas em uma só.\n",
    "\n",
    "Mas como saber quais variáveis devo tentar derivar se não explorei os dados? Isso é feito por meio do mindmap de hipóteses."
   ]
  },
  {
   "cell_type": "markdown",
   "id": "d11e1669",
   "metadata": {
    "heading_collapsed": true,
    "hidden": true
   },
   "source": [
    "## 2.1 Mindmap de hipóteses"
   ]
  },
  {
   "cell_type": "code",
   "execution_count": 29,
   "id": "79c1a23c",
   "metadata": {
    "ExecuteTime": {
     "end_time": "2023-01-14T13:27:03.189968Z",
     "start_time": "2023-01-14T13:27:03.160657Z"
    },
    "hidden": true
   },
   "outputs": [
    {
     "data": {
      "image/png": "[encoded data removed]",
      "text/plain": [
       "<IPython.core.display.Image object>"
      ]
     },
     "execution_count": 29,
     "metadata": {},
     "output_type": "execute_result"
    }
   ],
   "source": [
    "Image('../notes/mindmap_de_hipóteses.png')"
   ]
  },
  {
   "cell_type": "markdown",
   "id": "d320df80",
   "metadata": {
    "heading_collapsed": true,
    "hidden": true
   },
   "source": [
    "## 2.2 Criação das hipóteses"
   ]
  },
  {
   "cell_type": "markdown",
   "id": "5600e438",
   "metadata": {
    "hidden": true
   },
   "source": [
    "A partir do mindmap acima, conseguimos relacionar os atributos dos agentes com o comportamento de nosso fenômeno, assim, é possível criar as hipóteses para validarmos na análise exploratória dos dados.\n",
    "\n",
    "Sempre tendo em mente duas coisas:\n",
    "* Hipóteses são apostas. São suposições sobre como os agentes influenciam no fenômeno modelado.\n",
    "* Validando ou negando nossas hipóteses nós descobrimos relações de correlação entre variáveis e não de causa e efeito. Se eu descobrir que lojas maiores vendem mais, não dá para simplesmente sair construindo mais lojas."
   ]
  },
  {
   "cell_type": "markdown",
   "id": "712d875b",
   "metadata": {
    "hidden": true
   },
   "source": [
    "### 2.2.1 Hipóteses relacionadas ao Produto"
   ]
  },
  {
   "cell_type": "markdown",
   "id": "698f1fa8",
   "metadata": {
    "hidden": true
   },
   "source": [
    "**1.** Lojas com produtos com preços menores deveriam vender mais.\n",
    "\n",
    "**2.** Lojas com produtos em promoção por mais tempo deveriam vender mais.\n",
    "\n",
    "**3.** Lojas que investem mais em marketing deveriam vender mais.\n",
    "\n",
    "**4.** Lojas com mais promoções consecutivas deveriam vender mais.\n",
    "\n",
    "**5.** Lojas com maior exposição dos produtos deveriam vender mais."
   ]
  },
  {
   "cell_type": "markdown",
   "id": "29d449fa",
   "metadata": {
    "hidden": true
   },
   "source": [
    "### 2.2.2 Hipóteses relacionadas as lojas"
   ]
  },
  {
   "cell_type": "markdown",
   "id": "3c8162e6",
   "metadata": {
    "hidden": true
   },
   "source": [
    "**1.** Lojas com mais funcionários deveriam vender mais.\n",
    "\n",
    "**2.** Lojas com um estoque maior deveriam vender mais.\n",
    "\n",
    "**3.** Lojas maiores (em tamanho) deveriam vender mais.\n",
    "\n",
    "**4.** Lojas com mais sortimento deveriam vender mais.\n",
    "\n",
    "**5.** Lojas com competidores mais próximos deveriam vender menos.\n",
    "\n",
    "**6.** Lojas mais novas (abertas nos últimos 6 meses) deveriam vender mais."
   ]
  },
  {
   "cell_type": "markdown",
   "id": "87302564",
   "metadata": {
    "hidden": true
   },
   "source": [
    "### 2.2.3 Hipóteses relacionadas ao Tempo"
   ]
  },
  {
   "cell_type": "markdown",
   "id": "9d4ad098",
   "metadata": {
    "hidden": true
   },
   "source": [
    "**1**. Lojas abertas durante o feriado de Natal deveriam vender mais.\n",
    "\n",
    "**2**. Lojas deveriam vender mais ao longo dos anos.\n",
    "\n",
    "**3**. Lojas deveriam vender mais no segundo semestre do ano.\n",
    "\n",
    "**4**. Lojas deveriam vender mais depois do dia 10 de cada mês.\n",
    "\n",
    "**5**. Lojas deveriam vender menos aos finais de semana.\n",
    "\n",
    "**6**. Lojas deveriam vender menos durante os feriados escolares"
   ]
  },
  {
   "cell_type": "markdown",
   "id": "6d494189",
   "metadata": {
    "heading_collapsed": true,
    "hidden": true
   },
   "source": [
    "## 2.3 Lista final de hipóteses"
   ]
  },
  {
   "cell_type": "markdown",
   "id": "0c4c2229",
   "metadata": {
    "hidden": true
   },
   "source": [
    "A partir das hipóteses selecionadas acima, priorizamos elas e criamos essa lista final de hipóteses a serem avaliadas. Essa priorização é feita com base em um critério: \"temos os dados disponíveis para responder a hipótese X?\". É importante lembrar que o CRISP-DS é uma metodologia de desenvolvimento iterativa. Portanto, neste primeiro ciclo validaremos as hipóteses as quais temos dados disponíveis, mas caso verificarmos que essas variáveis não estão fazendo o modelo performar bem, temos de voltar a etapa inicial de coleta dos dados e buscar por novas fontes de dados."
   ]
  },
  {
   "cell_type": "markdown",
   "id": "e07114ab",
   "metadata": {
    "hidden": true
   },
   "source": [
    "**1**. Lojas com maior sortimentos deveriam vender mais.\n",
    "\n",
    "**2**. Lojas com competidores mais próximos deveriam vender menos.\n",
    "\n",
    "**3**. Lojas com competidores à mais tempo deveriam vendem mais.\n",
    "\n",
    "**4**. Lojas com promoções ativas por mais tempo deveriam vender mais.\n",
    "\n",
    "**5**. Lojas com mais dias de promoção deveriam vender mais.\n",
    "\n",
    "**7**. Lojas com mais promoções consecutivas deveriam vender mais.\n",
    "\n",
    "**8**. Lojas abertas durante o feriado de Natal deveriam vender mais.\n",
    "\n",
    "**9**. Lojas deveriam vender mais ao longo dos anos.\n",
    "\n",
    "**10**. Lojas deveriam vender mais no segundo semestre do ano.\n",
    "\n",
    "**11**. Lojas deveriam vender mais depois do dia 10 (dia do pagamento) de cada mês.\n",
    "\n",
    "**12**. Lojas deveriam vender menos aos finais de semana.\n",
    "\n",
    "**13**. Lojas deveriam vender menos durante os feriados escolares\n"
   ]
  },
  {
   "cell_type": "markdown",
   "id": "1db33361",
   "metadata": {
    "heading_collapsed": true,
    "hidden": true
   },
   "source": [
    "## 2.4 Feature Engineering"
   ]
  },
  {
   "cell_type": "code",
   "execution_count": 86,
   "id": "b4f994c9",
   "metadata": {
    "ExecuteTime": {
     "end_time": "2023-01-14T14:29:38.953483Z",
     "start_time": "2023-01-14T14:29:38.581605Z"
    },
    "hidden": true
   },
   "outputs": [],
   "source": [
    "df2 = df1.copy()"
   ]
  },
  {
   "cell_type": "code",
   "execution_count": 87,
   "id": "1755cdd9",
   "metadata": {
    "ExecuteTime": {
     "end_time": "2023-01-14T14:30:28.942678Z",
     "start_time": "2023-01-14T14:29:38.958685Z"
    },
    "hidden": true
   },
   "outputs": [],
   "source": [
    "#year\n",
    "df2['year'] = df2['date'].dt.year\n",
    "\n",
    "#month\n",
    "df2['month'] = df2['date'].dt.month\n",
    "\n",
    "#day\n",
    "df2['day'] = df2['date'].dt.day\n",
    "\n",
    "#week_of_year -> semana do ano\n",
    "df2['week_of_year'] = df2['date'].dt.strftime('%W')\n",
    "\n",
    "#year_week -> ano-semana do ano\n",
    "df2['year_week'] = df2['date'].dt.strftime('%Y-%W')\n",
    "\n",
    "#competition_since (formatado o dia que a competição começou no mesmo formato que 'date')\n",
    "df2['competition_since'] = df2.apply(lambda x: datetime.datetime(year=x['competition_open_since_year'], month=x['competition_open_since_month'], day=1), axis=1)\n",
    "\n",
    "#competition_time_month (tempo em meses desde que a competição começou)\n",
    "df2['competition_time_month'] = ((df2['date'] - df2['competition_since'])/30).apply(lambda x: x.days).astype(int)\n",
    "\n",
    "#promo_since\n",
    "df2['promo_since'] = df2['promo2_since_year'].astype(str) + '-' + df2['promo2_since_week'].astype(str)\n",
    "df2['promo_since'] = df2['promo_since'].apply(lambda x: datetime.datetime.strptime(x + '-1', '%Y-%W-%w'))\n",
    "df2['promo_time_week'] = ((df2['date'] - df2['promo_since'])/7).apply(lambda x: x.days).astype(int)\n",
    "df2['promo_time_week'] = df2['promo_time_week'].apply(lambda x: 0 if x == -1 else x)\n",
    "\n",
    "#assortment\n",
    "df2['assortment'] = df2['assortment'].apply(lambda x: 'basic' if x == 'a' else 'extra' if x == 'b' else 'extended')\n",
    "\n",
    "#state_holiday a = public holiday, b = Easter holiday, c = Christmas, 0 = None\n",
    "df2['state_holiday'] = df2['state_holiday'].apply(lambda x: 'public holiday' if x == 'a' else 'public holiday' if x == 'b' else 'Christmas' if x == 'c' else 'regular_day')"
   ]
  },
  {
   "cell_type": "markdown",
   "id": "e095b843",
   "metadata": {},
   "source": [
    "# 3.0 Filtragem de Variáveis"
   ]
  },
  {
   "cell_type": "markdown",
   "id": "e56c6148",
   "metadata": {
    "heading_collapsed": true
   },
   "source": [
    "## Qual é a motivação por trás dessa tarefa?"
   ]
  },
  {
   "cell_type": "markdown",
   "id": "d5bb0ec0",
   "metadata": {
    "hidden": true
   },
   "source": [
    "Considerar as restrições de negócio.\n",
    "\n",
    "Muitas vezes um projeto é feito e na hora de colocar o projeto em produção percebe-se que isso não será possível, pois as restrições de negócio não foram consideradas.\n",
    "\n",
    "Então o ideal é já pensar nessas restrições logo no início do projeto."
   ]
  },
  {
   "cell_type": "markdown",
   "id": "a409e253",
   "metadata": {
    "hidden": true
   },
   "source": [
    "Outro ponto, é a diferença entre **filtrar variáveis e selecionar variaveís**.\n",
    "\n",
    "Filtragem de variáveis:\n",
    "* Restrições de acordo com o negócio. -> não ter a possibilidade de usar determinada variável.\n",
    "\n",
    "Seleção de variáveis:\n",
    "* Variáveis mais relevantes para o modelo."
   ]
  },
  {
   "cell_type": "markdown",
   "id": "8cbd72a4",
   "metadata": {
    "heading_collapsed": true
   },
   "source": [
    "## 3.1 Filtragem das linhas"
   ]
  },
  {
   "cell_type": "markdown",
   "id": "089ae57e",
   "metadata": {
    "hidden": true
   },
   "source": [
    "Primeiro a gente filtra as linhas, depois seleciona as colunas. Por uma questão de perfomance.. Filtrando as linhas, reduz o volume dos dados e a partir disso seleciona as colunas."
   ]
  },
  {
   "cell_type": "markdown",
   "id": "2c9656a0",
   "metadata": {
    "hidden": true
   },
   "source": [
    "Condições para filtragem das linhas:\n",
    "    \n",
    "**1.** Se a coluna 'open' for igual a 0, significa que a loja não estava aberta naquele dia, o que significa que nenhuma venda será feita. Ou seja, não temos aprendizado com isso.\n",
    "\n",
    "**2.** O valor de vendas deve ser maior do que 0. Queremos modelar aquilo que impacta nas vendas. Se tenho uma linha que tem vendas igual a 0, não consigo aprender nada com ela."
   ]
  },
  {
   "cell_type": "code",
   "execution_count": 89,
   "id": "5e00dc1d",
   "metadata": {
    "ExecuteTime": {
     "end_time": "2023-01-14T14:42:12.752721Z",
     "start_time": "2023-01-14T14:42:12.216705Z"
    },
    "hidden": true
   },
   "outputs": [],
   "source": [
    "df3 = df2.copy()"
   ]
  },
  {
   "cell_type": "code",
   "execution_count": 91,
   "id": "7f3ff18a",
   "metadata": {
    "ExecuteTime": {
     "end_time": "2023-01-14T14:50:00.604977Z",
     "start_time": "2023-01-14T14:50:00.401182Z"
    },
    "hidden": true
   },
   "outputs": [],
   "source": [
    "df3 = df3[(df3['open'] != 0) & (df3['sales'] > 0)] "
   ]
  },
  {
   "cell_type": "markdown",
   "id": "6e21cb02",
   "metadata": {},
   "source": [
    "## 3.2 Seleção das colunas"
   ]
  },
  {
   "cell_type": "markdown",
   "id": "d3d91cf2",
   "metadata": {},
   "source": [
    "Colunas que serão filtradas:\n",
    "\n",
    "**customers**\n",
    "* Não é possível ter o número de clientes que terá na loja nas próximas 6 semanas, que é o período que nossa predição será feita. Então, no momento da predição não temos ela.\n",
    "\n",
    "**open**\n",
    "* Uma vez que dropamos todas as linhas iguais a 0, só restaram linhas em que open = 1.\n",
    "\n",
    "**promo_interval**\n",
    "* Coluna auxiliar para gerar 'is_promo'.\n",
    "\n",
    "**month_map**\n",
    "* Coluna auxiliar para gerar 'is_promo'.\n"
   ]
  },
  {
   "cell_type": "code",
   "execution_count": 92,
   "id": "df4a793f",
   "metadata": {
    "ExecuteTime": {
     "end_time": "2023-01-14T14:52:10.175033Z",
     "start_time": "2023-01-14T14:52:10.000221Z"
    }
   },
   "outputs": [],
   "source": [
    "cols_drop = ['customers', 'open', 'promo_interval', 'month_map']\n",
    "df3 = df3.drop(cols_drop, axis=1)"
   ]
  },
  {
   "cell_type": "code",
   "execution_count": 93,
   "id": "3e179939",
   "metadata": {
    "ExecuteTime": {
     "end_time": "2023-01-14T14:55:10.881528Z",
     "start_time": "2023-01-14T14:55:00.651843Z"
    }
   },
   "outputs": [],
   "source": [
    "df3.to_csv('../generated_data/df_to_explore.csv')"
   ]
  },
  {
   "cell_type": "markdown",
   "id": "b21f42b8",
   "metadata": {},
   "source": [
    "# 4.0 Exploratory Data Analysis (EDA)"
   ]
  },
  {
   "cell_type": "code",
   "execution_count": null,
   "id": "cef047be",
   "metadata": {},
   "outputs": [],
   "source": []
  }
 ],
 "metadata": {
  "kernelspec": {
   "display_name": "Python 3 (ipykernel)",
   "language": "python",
   "name": "python3"
  },
  "language_info": {
   "codemirror_mode": {
    "name": "ipython",
    "version": 3
   },
   "file_extension": ".py",
   "mimetype": "text/x-python",
   "name": "python",
   "nbconvert_exporter": "python",
   "pygments_lexer": "ipython3",
   "version": "3.9.15"
  }
 },
 "nbformat": 4,
 "nbformat_minor": 5
}
